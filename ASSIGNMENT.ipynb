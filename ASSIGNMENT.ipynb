{
 "cells": [
  {
   "cell_type": "markdown",
   "id": "fb644987-c6a2-47bc-8e6a-48b8d03b2f7c",
   "metadata": {},
   "source": [
    "### Python Basics"
   ]
  },
  {
   "cell_type": "markdown",
   "id": "a97422cd-7bcd-4324-9205-e9c3730bbc48",
   "metadata": {},
   "source": [
    "#### **TASK 1:** Create an If...Else statement that will test whether a number is divisible by three. \"YOUR VALUE is divisible by 3\" should be printed if the value is divisible by three. "
   ]
  },
  {
   "cell_type": "code",
   "execution_count": 3,
   "id": "7f9612f5-8403-47a2-be12-e4021849b0fb",
   "metadata": {},
   "outputs": [
    {
     "name": "stdin",
     "output_type": "stream",
     "text": [
      "Test whether your number is divisible by three. What is your number? 5\n"
     ]
    },
    {
     "name": "stdout",
     "output_type": "stream",
     "text": [
      "5 is not divisible by 3\n"
     ]
    }
   ],
   "source": [
    "num1=int(input(\"Test whether your number is divisible by three. What is your number?\"))\n",
    "if(num1%3==0):\n",
    "    print(\"{} is divisible by 3\".format(num1))\n",
    "else:\n",
    "    print(\"{} is not divisible by 3\".format(num1))"
   ]
  },
  {
   "cell_type": "markdown",
   "id": "3d29d5c9-733c-4c19-8245-39e1602ecfd5",
   "metadata": {},
   "source": [
    "#### **TASK 2:** Create an If...Else statement that will test whether a type of fruit, represented as a text string, is in a list of acceptable fruits (apple, orange, pear, kiwi, or strawberry). If the fruit is on the list, the following should be printed: \"YOUR FRUIT is acceptable.\""
   ]
  },
  {
   "cell_type": "code",
   "execution_count": 4,
   "id": "3e7b90d5-a81c-493e-b264-65028855b12c",
   "metadata": {},
   "outputs": [
    {
     "name": "stdin",
     "output_type": "stream",
     "text": [
      "What is your fruit? pineapple\n"
     ]
    },
    {
     "name": "stdout",
     "output_type": "stream",
     "text": [
      "pineapple is not acceptable.\n"
     ]
    }
   ],
   "source": [
    "fruit = input(\"What is your fruit?\")\n",
    "\n",
    "acceptablefruits = [\"apple\", \"orange\", \"pear\", \"kiwi\", \"strawberry\",\n",
    "                    \"Apple\", \"Orange\", \"Pear\", \"Kiwi\", \"Strawberry\",\n",
    "                    \"APPLE\", \"ORANGE\", \"PEAR\", \"KIWI\", \"STRAWBERRY\"] #added in various capitilizations to avoid discrepencies \n",
    "\n",
    "if fruit in acceptablefruits:\n",
    "    print(str(fruit) + \" is accetable.\")\n",
    "else: \n",
    "    print(str(fruit) + \" is not acceptable.\")"
   ]
  },
  {
   "cell_type": "markdown",
   "id": "7f2f0119-6cd1-488f-91f7-5bf1550bb446",
   "metadata": {},
   "source": [
    "#### **TASK 3:** Create a function to calculate the distance between two coordinates using the haversine formula. Write the following formula where the input parameters are a pair of coordinates as two lists."
   ]
  },
  {
   "cell_type": "markdown",
   "id": "d8120884-588f-486a-8bbb-5921cb9c113e",
   "metadata": {},
   "source": [
    "### Pandas and NumPy"
   ]
  },
  {
   "cell_type": "code",
   "execution_count": 1,
   "id": "48090b96-78eb-4610-b2f4-d022d6e26d9e",
   "metadata": {},
   "outputs": [],
   "source": [
    "import numpy as np #simplifying code \n",
    "import pandas as pd #simplifying code"
   ]
  },
  {
   "cell_type": "code",
   "execution_count": 2,
   "id": "fd2ac290-dc2c-492f-bd0a-3a4377ba977f",
   "metadata": {},
   "outputs": [
    {
     "data": {
      "text/plain": [
       "(25534, 39)"
      ]
     },
     "execution_count": 2,
     "metadata": {},
     "output_type": "execute_result"
    }
   ],
   "source": [
    "trees = pd.read_csv('portland_park_trees.csv', index_col=0, sep=\",\", header=0) #reading in csv file\n",
    "trees.head(5) #checking it is imported correctly, getting head\n",
    "trees.shape"
   ]
  },
  {
   "cell_type": "markdown",
   "id": "820081ac-1117-4a4b-bc7d-5dee1267dd0f",
   "metadata": {},
   "source": [
    "#### **QUESTION 1:**  How many trees are of the Quercus or Acer genus?"
   ]
  },
  {
   "cell_type": "markdown",
   "id": "a090d97f-b52a-483f-8c98-d985d233560d",
   "metadata": {},
   "source": [
    "##### **Quercus genus**"
   ]
  },
  {
   "cell_type": "code",
   "execution_count": 5,
   "id": "81b8a953-f29b-404b-9cac-96f69dbf591f",
   "metadata": {},
   "outputs": [
    {
     "data": {
      "text/plain": [
       "2089"
      ]
     },
     "execution_count": 5,
     "metadata": {},
     "output_type": "execute_result"
    }
   ],
   "source": [
    "Quercus = (trees['Genus'] == 'Quercus') #subsetting\n",
    "trees.loc[Quercus]\n",
    "Quercus.sum() #simple sum statement"
   ]
  },
  {
   "cell_type": "markdown",
   "id": "4ea03426-932a-4aa8-94d7-af1251274559",
   "metadata": {},
   "source": [
    "##### There are 2089 recorded trees from the Quercus genus."
   ]
  },
  {
   "cell_type": "markdown",
   "id": "574c55f3-30b5-4692-a5fe-c601251bdc58",
   "metadata": {},
   "source": [
    "##### **Acer genus**"
   ]
  },
  {
   "cell_type": "code",
   "execution_count": 7,
   "id": "bc4d76c6-70ec-4b8c-a193-922a750470c2",
   "metadata": {},
   "outputs": [
    {
     "data": {
      "text/plain": [
       "3586"
      ]
     },
     "execution_count": 7,
     "metadata": {},
     "output_type": "execute_result"
    }
   ],
   "source": [
    "Acer = (trees['Genus'] == 'Acer')\n",
    "trees.loc[Acer]\n",
    "Acer.sum()"
   ]
  },
  {
   "cell_type": "markdown",
   "id": "21d21a74-59e5-40fe-b6fa-411c358693dc",
   "metadata": {},
   "source": [
    "##### There are 3586 recorded trees from the Acer genus."
   ]
  },
  {
   "cell_type": "markdown",
   "id": "ce8c6761-3ecf-45c1-8b12-252b9ade6eca",
   "metadata": {},
   "source": [
    "#### **QUESTION 2:** How many trees are of the Quercus or Acer genus and have a DBH larger than 50 inches?"
   ]
  },
  {
   "cell_type": "markdown",
   "id": "f375c304-024c-47c6-a985-d207956e4a1e",
   "metadata": {},
   "source": [
    "##### **Quercus genus**"
   ]
  },
  {
   "cell_type": "code",
   "execution_count": 8,
   "id": "f3a9bfac-2106-4c9d-afb1-644c7582541f",
   "metadata": {},
   "outputs": [
    {
     "name": "stdout",
     "output_type": "stream",
     "text": [
      "         Genus   DBH\n",
      "fid                 \n",
      "1702   Quercus  51.5\n",
      "2020   Quercus  58.5\n",
      "2023   Quercus  54.1\n",
      "2035   Quercus  68.3\n",
      "2047   Quercus  57.9\n",
      "...        ...   ...\n",
      "19516  Quercus  53.5\n",
      "19524  Quercus  59.4\n",
      "21834  Quercus  56.4\n",
      "24272  Quercus  69.9\n",
      "24462  Quercus  59.0\n",
      "\n",
      "[80 rows x 2 columns]\n"
     ]
    },
    {
     "data": {
      "text/plain": [
       "Genus    80\n",
       "DBH      80\n",
       "dtype: int64"
      ]
     },
     "execution_count": 8,
     "metadata": {},
     "output_type": "execute_result"
    }
   ],
   "source": [
    "quercusDBH = trees [(trees[\"Genus\"]==\"Quercus\") & (trees[\"DBH\"]>50)][[\"Genus\", \"DBH\"]]\n",
    "print(quercusDBH)\n",
    "quercusDBH.count()"
   ]
  },
  {
   "cell_type": "markdown",
   "id": "f536fa6e-bd27-4ca6-83b6-6659b7a3e26f",
   "metadata": {},
   "source": [
    "##### There are 80 trees from the Quercus genus that also have a DBH larger than 50 inches."
   ]
  },
  {
   "cell_type": "markdown",
   "id": "a68f927d-06bc-413f-98f5-ad277c6a0593",
   "metadata": {},
   "source": [
    "##### **Acer genus**"
   ]
  },
  {
   "cell_type": "code",
   "execution_count": 9,
   "id": "470ee60b-ce73-48d2-be35-f25067f08e06",
   "metadata": {},
   "outputs": [
    {
     "name": "stdout",
     "output_type": "stream",
     "text": [
      "      Genus   DBH\n",
      "fid              \n",
      "128    Acer  50.5\n",
      "153    Acer  50.5\n",
      "155    Acer  52.7\n",
      "163    Acer  56.3\n",
      "594    Acer  50.9\n",
      "596    Acer  53.0\n",
      "681    Acer  52.7\n",
      "815    Acer  53.5\n",
      "840    Acer  53.5\n",
      "1937   Acer  51.6\n",
      "3078   Acer  52.7\n",
      "3117   Acer  59.2\n",
      "3128   Acer  52.6\n",
      "3130   Acer  50.3\n",
      "3218   Acer  58.0\n",
      "3233   Acer  53.3\n",
      "3248   Acer  55.0\n",
      "3252   Acer  58.0\n",
      "3254   Acer  65.0\n",
      "5424   Acer  65.9\n",
      "6160   Acer  50.1\n",
      "6410   Acer  73.0\n",
      "8917   Acer  54.0\n",
      "12330  Acer  60.0\n",
      "12337  Acer  58.4\n",
      "12339  Acer  61.1\n",
      "12397  Acer  62.8\n",
      "15848  Acer  55.1\n",
      "17244  Acer  54.8\n",
      "18123  Acer  54.3\n",
      "19710  Acer  56.5\n",
      "19895  Acer  54.0\n",
      "20168  Acer  52.4\n",
      "20225  Acer  56.3\n",
      "20236  Acer  66.7\n",
      "20656  Acer  53.7\n",
      "23319  Acer  51.0\n",
      "23482  Acer  59.4\n",
      "23870  Acer  59.3\n",
      "23893  Acer  63.7\n",
      "23933  Acer  55.8\n",
      "23958  Acer  59.5\n",
      "25500  Acer  84.5\n",
      "25507  Acer  63.0\n"
     ]
    },
    {
     "data": {
      "text/plain": [
       "Genus    44\n",
       "DBH      44\n",
       "dtype: int64"
      ]
     },
     "execution_count": 9,
     "metadata": {},
     "output_type": "execute_result"
    }
   ],
   "source": [
    "acerDBH = trees [(trees[\"Genus\"]==\"Acer\") & (trees[\"DBH\"]>50)][[\"Genus\", \"DBH\"]]\n",
    "print(acerDBH)\n",
    "acerDBH.count()"
   ]
  },
  {
   "cell_type": "markdown",
   "id": "896b30f4-f705-4260-84a1-438f0e7b4a1c",
   "metadata": {},
   "source": [
    "##### There are 44 trees from the Acer genus that also have a DBH larger than 50 inches."
   ]
  },
  {
   "cell_type": "markdown",
   "id": "647d0312-5415-4c1b-aebe-eea5936ed100",
   "metadata": {},
   "source": [
    "#### **QUESTION 3:** Which genus has the highest mean DBH of the following genera: Quercus, Acer, or Fraxinus?"
   ]
  },
  {
   "cell_type": "markdown",
   "id": "3168ec03-e344-4e6f-b9be-4597deb4554f",
   "metadata": {},
   "source": [
    "##### **Quercus genus**"
   ]
  },
  {
   "cell_type": "code",
   "execution_count": 11,
   "id": "d8f91a52-41d9-44d9-900e-76e5b62af8db",
   "metadata": {},
   "outputs": [
    {
     "data": {
      "text/plain": [
       "23.56823839157492"
      ]
     },
     "execution_count": 11,
     "metadata": {},
     "output_type": "execute_result"
    }
   ],
   "source": [
    "quercusDBHmean = ['Quercus'] #subsetting\n",
    "trees[\"DBH\"][trees['Genus'].isin(quercusDBHmean)].mean() #getting mean from within that subset"
   ]
  },
  {
   "cell_type": "markdown",
   "id": "3d913866-b79f-4511-8e64-69531151320c",
   "metadata": {},
   "source": [
    "##### The mean DBH of the Quercus genus is 23.568 inches."
   ]
  },
  {
   "cell_type": "markdown",
   "id": "b0238257-a306-411a-8b91-6b1cc08037c8",
   "metadata": {},
   "source": [
    "##### **Acer genus**"
   ]
  },
  {
   "cell_type": "code",
   "execution_count": 12,
   "id": "11b28d5f-fdb1-41d5-973f-e21e59adbeca",
   "metadata": {},
   "outputs": [
    {
     "data": {
      "text/plain": [
       "18.419085331846066"
      ]
     },
     "execution_count": 12,
     "metadata": {},
     "output_type": "execute_result"
    }
   ],
   "source": [
    "acerDBHmean = ['Acer'] \n",
    "trees[\"DBH\"][trees['Genus'].isin(acerDBHmean)].mean()"
   ]
  },
  {
   "cell_type": "markdown",
   "id": "2e204eea-59bb-4bfe-83b4-0bbfe8f244f5",
   "metadata": {},
   "source": [
    "##### The mean DBH of the Acer genus is 23.568 inches."
   ]
  },
  {
   "cell_type": "markdown",
   "id": "6375f868-f5a0-4652-a59f-318d01f04616",
   "metadata": {},
   "source": [
    "##### **Fraxinus genus**"
   ]
  },
  {
   "cell_type": "code",
   "execution_count": 13,
   "id": "9cb6f33b-7d6c-4efc-9fc9-45496edcb50f",
   "metadata": {},
   "outputs": [
    {
     "data": {
      "text/plain": [
       "11.033609693877551"
      ]
     },
     "execution_count": 13,
     "metadata": {},
     "output_type": "execute_result"
    }
   ],
   "source": [
    "fraxinusDBHmean = ['Fraxinus'] \n",
    "trees[\"DBH\"][trees['Genus'].isin(fraxinusDBHmean)].mean()"
   ]
  },
  {
   "cell_type": "markdown",
   "id": "bfa7c020-614b-4c65-84ba-b41a7941c1dd",
   "metadata": {},
   "source": [
    "##### The mean DBH of the Fraxinus genus is 11.034 inches."
   ]
  },
  {
   "cell_type": "markdown",
   "id": "e86fe7df-7336-46e1-9656-cdadcfa59f17",
   "metadata": {},
   "source": [
    "#### **QUESTION 4:** How many different species of trees are recorded in the Acer genus?"
   ]
  },
  {
   "cell_type": "code",
   "execution_count": 14,
   "id": "ed707f7a-d029-4f24-bdbb-5c6860713c1a",
   "metadata": {},
   "outputs": [
    {
     "name": "stdout",
     "output_type": "stream",
     "text": [
      "20\n"
     ]
    }
   ],
   "source": [
    "acerspp_genus = pd.DataFrame(trees)\n",
    "trees['Genus'] = trees['Genus_spec'].str.split(' ', expand=True)[0] #dividing Genus_spec to distinguish just Acer spp. within column\n",
    "subset_acer = 'Acer'\n",
    "acer_subset = trees[trees['Genus'] == subset_acer] #subsetting . . .\n",
    "dif_acerspp = acer_subset['Genus_spec'].nunique() #getting rid of duplicate genus spp. within subset\n",
    "print(dif_acerspp) #printing"
   ]
  },
  {
   "cell_type": "markdown",
   "id": "728f3c60-3e7c-46ac-9a9f-54d51b2815b2",
   "metadata": {},
   "source": [
    "##### There are 20 distinct species within the Acer genus."
   ]
  },
  {
   "cell_type": "markdown",
   "id": "dc2cc207-3a64-4875-91d8-3942d451c45f",
   "metadata": {},
   "source": [
    "#### **QUESTION 5:** Various questions based upon the world_cities.csv file . . ."
   ]
  },
  {
   "cell_type": "code",
   "execution_count": 15,
   "id": "22b494d1-8033-4af8-87b0-133ba8c49cb5",
   "metadata": {},
   "outputs": [
    {
     "data": {
      "text/html": [
       "<div>\n",
       "<style scoped>\n",
       "    .dataframe tbody tr th:only-of-type {\n",
       "        vertical-align: middle;\n",
       "    }\n",
       "\n",
       "    .dataframe tbody tr th {\n",
       "        vertical-align: top;\n",
       "    }\n",
       "\n",
       "    .dataframe thead th {\n",
       "        text-align: right;\n",
       "    }\n",
       "</style>\n",
       "<table border=\"1\" class=\"dataframe\">\n",
       "  <thead>\n",
       "    <tr style=\"text-align: right;\">\n",
       "      <th></th>\n",
       "      <th>country</th>\n",
       "      <th>pop</th>\n",
       "      <th>lat</th>\n",
       "      <th>lon</th>\n",
       "      <th>capital</th>\n",
       "    </tr>\n",
       "    <tr>\n",
       "      <th>city</th>\n",
       "      <th></th>\n",
       "      <th></th>\n",
       "      <th></th>\n",
       "      <th></th>\n",
       "      <th></th>\n",
       "    </tr>\n",
       "  </thead>\n",
       "  <tbody>\n",
       "    <tr>\n",
       "      <th>'Abasan al-Jadidah</th>\n",
       "      <td>Palestine</td>\n",
       "      <td>5629</td>\n",
       "      <td>31.31</td>\n",
       "      <td>34.34</td>\n",
       "      <td>0</td>\n",
       "    </tr>\n",
       "    <tr>\n",
       "      <th>'Abasan al-Kabirah</th>\n",
       "      <td>Palestine</td>\n",
       "      <td>18999</td>\n",
       "      <td>31.32</td>\n",
       "      <td>34.35</td>\n",
       "      <td>0</td>\n",
       "    </tr>\n",
       "    <tr>\n",
       "      <th>'Abdul Hakim</th>\n",
       "      <td>Pakistan</td>\n",
       "      <td>47788</td>\n",
       "      <td>30.55</td>\n",
       "      <td>72.11</td>\n",
       "      <td>0</td>\n",
       "    </tr>\n",
       "    <tr>\n",
       "      <th>'Abdullah-as-Salam</th>\n",
       "      <td>Kuwait</td>\n",
       "      <td>21817</td>\n",
       "      <td>29.36</td>\n",
       "      <td>47.98</td>\n",
       "      <td>0</td>\n",
       "    </tr>\n",
       "    <tr>\n",
       "      <th>'Abud</th>\n",
       "      <td>Palestine</td>\n",
       "      <td>2456</td>\n",
       "      <td>32.03</td>\n",
       "      <td>35.07</td>\n",
       "      <td>0</td>\n",
       "    </tr>\n",
       "  </tbody>\n",
       "</table>\n",
       "</div>"
      ],
      "text/plain": [
       "                      country    pop    lat    lon  capital\n",
       "city                                                       \n",
       "'Abasan al-Jadidah  Palestine   5629  31.31  34.34        0\n",
       "'Abasan al-Kabirah  Palestine  18999  31.32  34.35        0\n",
       "'Abdul Hakim         Pakistan  47788  30.55  72.11        0\n",
       "'Abdullah-as-Salam     Kuwait  21817  29.36  47.98        0\n",
       "'Abud               Palestine   2456  32.03  35.07        0"
      ]
     },
     "execution_count": 15,
     "metadata": {},
     "output_type": "execute_result"
    }
   ],
   "source": [
    "cities = pd.read_csv('world_cities.csv', index_col=0, sep=\",\", header=0) #reading in csv file\n",
    "cities.head(5) #checking it is imported correctly, getting head"
   ]
  },
  {
   "cell_type": "code",
   "execution_count": 16,
   "id": "60d26faa-7b37-43f8-b704-20cdf5be84b7",
   "metadata": {},
   "outputs": [
    {
     "data": {
      "text/plain": [
       "(43645, 5)"
      ]
     },
     "execution_count": 16,
     "metadata": {},
     "output_type": "execute_result"
    }
   ],
   "source": [
    "cities.shape"
   ]
  },
  {
   "cell_type": "markdown",
   "id": "7dc01ca5-1503-442d-97e3-040abb3082b6",
   "metadata": {},
   "source": [
    "##### Calculating new column named \"pop_M\" (population in millions), by transforming the \"pop\" (population) column."
   ]
  },
  {
   "cell_type": "code",
   "execution_count": 17,
   "id": "e50bed86-b826-4991-9faf-5809cc24f373",
   "metadata": {},
   "outputs": [
    {
     "data": {
      "text/html": [
       "<div>\n",
       "<style scoped>\n",
       "    .dataframe tbody tr th:only-of-type {\n",
       "        vertical-align: middle;\n",
       "    }\n",
       "\n",
       "    .dataframe tbody tr th {\n",
       "        vertical-align: top;\n",
       "    }\n",
       "\n",
       "    .dataframe thead th {\n",
       "        text-align: right;\n",
       "    }\n",
       "</style>\n",
       "<table border=\"1\" class=\"dataframe\">\n",
       "  <thead>\n",
       "    <tr style=\"text-align: right;\">\n",
       "      <th></th>\n",
       "      <th>country</th>\n",
       "      <th>pop</th>\n",
       "      <th>lat</th>\n",
       "      <th>lon</th>\n",
       "      <th>capital</th>\n",
       "      <th>pop_M</th>\n",
       "    </tr>\n",
       "    <tr>\n",
       "      <th>city</th>\n",
       "      <th></th>\n",
       "      <th></th>\n",
       "      <th></th>\n",
       "      <th></th>\n",
       "      <th></th>\n",
       "      <th></th>\n",
       "    </tr>\n",
       "  </thead>\n",
       "  <tbody>\n",
       "    <tr>\n",
       "      <th>'Abasan al-Jadidah</th>\n",
       "      <td>Palestine</td>\n",
       "      <td>5629</td>\n",
       "      <td>31.31</td>\n",
       "      <td>34.34</td>\n",
       "      <td>0</td>\n",
       "      <td>0.005629</td>\n",
       "    </tr>\n",
       "    <tr>\n",
       "      <th>'Abasan al-Kabirah</th>\n",
       "      <td>Palestine</td>\n",
       "      <td>18999</td>\n",
       "      <td>31.32</td>\n",
       "      <td>34.35</td>\n",
       "      <td>0</td>\n",
       "      <td>0.018999</td>\n",
       "    </tr>\n",
       "    <tr>\n",
       "      <th>'Abdul Hakim</th>\n",
       "      <td>Pakistan</td>\n",
       "      <td>47788</td>\n",
       "      <td>30.55</td>\n",
       "      <td>72.11</td>\n",
       "      <td>0</td>\n",
       "      <td>0.047788</td>\n",
       "    </tr>\n",
       "    <tr>\n",
       "      <th>'Abdullah-as-Salam</th>\n",
       "      <td>Kuwait</td>\n",
       "      <td>21817</td>\n",
       "      <td>29.36</td>\n",
       "      <td>47.98</td>\n",
       "      <td>0</td>\n",
       "      <td>0.021817</td>\n",
       "    </tr>\n",
       "    <tr>\n",
       "      <th>'Abud</th>\n",
       "      <td>Palestine</td>\n",
       "      <td>2456</td>\n",
       "      <td>32.03</td>\n",
       "      <td>35.07</td>\n",
       "      <td>0</td>\n",
       "      <td>0.002456</td>\n",
       "    </tr>\n",
       "  </tbody>\n",
       "</table>\n",
       "</div>"
      ],
      "text/plain": [
       "                      country    pop    lat    lon  capital     pop_M\n",
       "city                                                                 \n",
       "'Abasan al-Jadidah  Palestine   5629  31.31  34.34        0  0.005629\n",
       "'Abasan al-Kabirah  Palestine  18999  31.32  34.35        0  0.018999\n",
       "'Abdul Hakim         Pakistan  47788  30.55  72.11        0  0.047788\n",
       "'Abdullah-as-Salam     Kuwait  21817  29.36  47.98        0  0.021817\n",
       "'Abud               Palestine   2456  32.03  35.07        0  0.002456"
      ]
     },
     "execution_count": 17,
     "metadata": {},
     "output_type": "execute_result"
    }
   ],
   "source": [
    "cities[\"pop_M\"] = cities[\"pop\"] * 0.000001 #thousands into millions . . .\n",
    "cities.head(5) #checking column was successfully created"
   ]
  },
  {
   "cell_type": "markdown",
   "id": "ec1488df-9e4b-465e-bc24-8c35cb87cd84",
   "metadata": {},
   "source": [
    "##### Removing the original 'pop' columndel cities['pop']\n",
    "cities.head(5)\n"
   ]
  },
  {
   "cell_type": "code",
   "execution_count": 18,
   "id": "392dddd2-634f-4aca-8be1-26310ab07c61",
   "metadata": {},
   "outputs": [
    {
     "data": {
      "text/html": [
       "<div>\n",
       "<style scoped>\n",
       "    .dataframe tbody tr th:only-of-type {\n",
       "        vertical-align: middle;\n",
       "    }\n",
       "\n",
       "    .dataframe tbody tr th {\n",
       "        vertical-align: top;\n",
       "    }\n",
       "\n",
       "    .dataframe thead th {\n",
       "        text-align: right;\n",
       "    }\n",
       "</style>\n",
       "<table border=\"1\" class=\"dataframe\">\n",
       "  <thead>\n",
       "    <tr style=\"text-align: right;\">\n",
       "      <th></th>\n",
       "      <th>country</th>\n",
       "      <th>lat</th>\n",
       "      <th>lon</th>\n",
       "      <th>capital</th>\n",
       "      <th>pop_M</th>\n",
       "    </tr>\n",
       "    <tr>\n",
       "      <th>city</th>\n",
       "      <th></th>\n",
       "      <th></th>\n",
       "      <th></th>\n",
       "      <th></th>\n",
       "      <th></th>\n",
       "    </tr>\n",
       "  </thead>\n",
       "  <tbody>\n",
       "    <tr>\n",
       "      <th>'Abasan al-Jadidah</th>\n",
       "      <td>Palestine</td>\n",
       "      <td>31.31</td>\n",
       "      <td>34.34</td>\n",
       "      <td>0</td>\n",
       "      <td>0.005629</td>\n",
       "    </tr>\n",
       "    <tr>\n",
       "      <th>'Abasan al-Kabirah</th>\n",
       "      <td>Palestine</td>\n",
       "      <td>31.32</td>\n",
       "      <td>34.35</td>\n",
       "      <td>0</td>\n",
       "      <td>0.018999</td>\n",
       "    </tr>\n",
       "    <tr>\n",
       "      <th>'Abdul Hakim</th>\n",
       "      <td>Pakistan</td>\n",
       "      <td>30.55</td>\n",
       "      <td>72.11</td>\n",
       "      <td>0</td>\n",
       "      <td>0.047788</td>\n",
       "    </tr>\n",
       "    <tr>\n",
       "      <th>'Abdullah-as-Salam</th>\n",
       "      <td>Kuwait</td>\n",
       "      <td>29.36</td>\n",
       "      <td>47.98</td>\n",
       "      <td>0</td>\n",
       "      <td>0.021817</td>\n",
       "    </tr>\n",
       "    <tr>\n",
       "      <th>'Abud</th>\n",
       "      <td>Palestine</td>\n",
       "      <td>32.03</td>\n",
       "      <td>35.07</td>\n",
       "      <td>0</td>\n",
       "      <td>0.002456</td>\n",
       "    </tr>\n",
       "  </tbody>\n",
       "</table>\n",
       "</div>"
      ],
      "text/plain": [
       "                      country    lat    lon  capital     pop_M\n",
       "city                                                          \n",
       "'Abasan al-Jadidah  Palestine  31.31  34.34        0  0.005629\n",
       "'Abasan al-Kabirah  Palestine  31.32  34.35        0  0.018999\n",
       "'Abdul Hakim         Pakistan  30.55  72.11        0  0.047788\n",
       "'Abdullah-as-Salam     Kuwait  29.36  47.98        0  0.021817\n",
       "'Abud               Palestine  32.03  35.07        0  0.002456"
      ]
     },
     "execution_count": 18,
     "metadata": {},
     "output_type": "execute_result"
    }
   ],
   "source": [
    "del cities['pop'] #simple deletion . . .\n",
    "cities.head(5) #checking column was deleted"
   ]
  },
  {
   "cell_type": "markdown",
   "id": "76d47945-b86f-42da-b13e-b03d5b20e7bd",
   "metadata": {},
   "source": [
    "##### Choosing a city that starts with the first letter of my first name"
   ]
  },
  {
   "cell_type": "code",
   "execution_count": 19,
   "id": "bf6ef37b-c528-44cb-9b60-ee7c25f4c82d",
   "metadata": {},
   "outputs": [
    {
     "name": "stdout",
     "output_type": "stream",
     "text": [
      "Santa Isabel Information\n"
     ]
    },
    {
     "data": {
      "text/plain": [
       "country     Brazil\n",
       "lat          -1.29\n",
       "lon         -48.16\n",
       "capital          0\n",
       "pop_M      0.04062\n",
       "Name: Santa Isabel do Para, dtype: object"
      ]
     },
     "metadata": {},
     "output_type": "display_data"
    }
   ],
   "source": [
    "print(\"Santa Isabel Information\")\n",
    "display(cities.iloc[33571])"
   ]
  },
  {
   "cell_type": "markdown",
   "id": "f01c1349-8943-40c7-90df-8a23ce657c1e",
   "metadata": {},
   "source": [
    "##### Subseting the five biggest (i.e., largest population sizes) cities in Brazil"
   ]
  },
  {
   "cell_type": "code",
   "execution_count": 20,
   "id": "f16d3a0f-8988-4ba0-8ed9-480ec510a94c",
   "metadata": {},
   "outputs": [
    {
     "data": {
      "text/html": [
       "<div>\n",
       "<style scoped>\n",
       "    .dataframe tbody tr th:only-of-type {\n",
       "        vertical-align: middle;\n",
       "    }\n",
       "\n",
       "    .dataframe tbody tr th {\n",
       "        vertical-align: top;\n",
       "    }\n",
       "\n",
       "    .dataframe thead th {\n",
       "        text-align: right;\n",
       "    }\n",
       "</style>\n",
       "<table border=\"1\" class=\"dataframe\">\n",
       "  <thead>\n",
       "    <tr style=\"text-align: right;\">\n",
       "      <th></th>\n",
       "      <th>country</th>\n",
       "      <th>lat</th>\n",
       "      <th>lon</th>\n",
       "      <th>capital</th>\n",
       "      <th>pop_M</th>\n",
       "    </tr>\n",
       "    <tr>\n",
       "      <th>city</th>\n",
       "      <th></th>\n",
       "      <th></th>\n",
       "      <th></th>\n",
       "      <th></th>\n",
       "      <th></th>\n",
       "    </tr>\n",
       "  </thead>\n",
       "  <tbody>\n",
       "    <tr>\n",
       "      <th>Sao Paulo</th>\n",
       "      <td>Brazil</td>\n",
       "      <td>-23.53</td>\n",
       "      <td>-46.63</td>\n",
       "      <td>0</td>\n",
       "      <td>10.059502</td>\n",
       "    </tr>\n",
       "    <tr>\n",
       "      <th>Rio de Janeiro</th>\n",
       "      <td>Brazil</td>\n",
       "      <td>-22.91</td>\n",
       "      <td>-43.20</td>\n",
       "      <td>0</td>\n",
       "      <td>6.055582</td>\n",
       "    </tr>\n",
       "    <tr>\n",
       "      <th>Salvador</th>\n",
       "      <td>Brazil</td>\n",
       "      <td>-12.97</td>\n",
       "      <td>-38.50</td>\n",
       "      <td>0</td>\n",
       "      <td>2.762758</td>\n",
       "    </tr>\n",
       "    <tr>\n",
       "      <th>Belo Horizonte</th>\n",
       "      <td>Brazil</td>\n",
       "      <td>-19.92</td>\n",
       "      <td>-43.94</td>\n",
       "      <td>0</td>\n",
       "      <td>2.399577</td>\n",
       "    </tr>\n",
       "    <tr>\n",
       "      <th>Fortaleza</th>\n",
       "      <td>Brazil</td>\n",
       "      <td>-3.78</td>\n",
       "      <td>-38.59</td>\n",
       "      <td>0</td>\n",
       "      <td>2.349632</td>\n",
       "    </tr>\n",
       "  </tbody>\n",
       "</table>\n",
       "</div>"
      ],
      "text/plain": [
       "               country    lat    lon  capital      pop_M\n",
       "city                                                    \n",
       "Sao Paulo       Brazil -23.53 -46.63        0  10.059502\n",
       "Rio de Janeiro  Brazil -22.91 -43.20        0   6.055582\n",
       "Salvador        Brazil -12.97 -38.50        0   2.762758\n",
       "Belo Horizonte  Brazil -19.92 -43.94        0   2.399577\n",
       "Fortaleza       Brazil  -3.78 -38.59        0   2.349632"
      ]
     },
     "execution_count": 20,
     "metadata": {},
     "output_type": "execute_result"
    }
   ],
   "source": [
    "(cities.query(\"country == 'Brazil'\")\n",
    "     .sort_values(by=\"pop_M\", ascending=False) #ascend false to have largest pop. size first\n",
    "    .head(5)) #five biggest"
   ]
  },
  {
   "cell_type": "markdown",
   "id": "ec9f0900-d37e-4e93-8241-fcb56f8262fd",
   "metadata": {},
   "source": [
    "##### The five largest cities in Brazil by population are Sao Paulo, Rio de Janerio, Salvador, Belo Horizonte, and Fortaleza."
   ]
  },
  {
   "cell_type": "markdown",
   "id": "7c763959-49bb-42d9-9e18-ceabfdcb3611",
   "metadata": {},
   "source": [
    "### Python Data Visualization"
   ]
  },
  {
   "cell_type": "code",
   "execution_count": 22,
   "id": "328ee9c4-2b3e-4005-9bce-837f91140ded",
   "metadata": {},
   "outputs": [],
   "source": [
    "import numpy as np\n",
    "import pandas as pd\n",
    "import matplotlib.pyplot as plt #plt as an alias\n",
    "%matplotlib inline\n",
    "import seaborn as sns"
   ]
  },
  {
   "cell_type": "code",
   "execution_count": 23,
   "id": "09f364c6-118b-4bd2-a753-0a3c3c94767b",
   "metadata": {},
   "outputs": [
    {
     "data": {
      "text/html": [
       "<div>\n",
       "<style scoped>\n",
       "    .dataframe tbody tr th:only-of-type {\n",
       "        vertical-align: middle;\n",
       "    }\n",
       "\n",
       "    .dataframe tbody tr th {\n",
       "        vertical-align: top;\n",
       "    }\n",
       "\n",
       "    .dataframe thead th {\n",
       "        text-align: right;\n",
       "    }\n",
       "</style>\n",
       "<table border=\"1\" class=\"dataframe\">\n",
       "  <thead>\n",
       "    <tr style=\"text-align: right;\">\n",
       "      <th></th>\n",
       "      <th>OBJECTID</th>\n",
       "      <th>Inventory_</th>\n",
       "      <th>Species</th>\n",
       "      <th>DBH</th>\n",
       "      <th>Condition</th>\n",
       "      <th>TreeHeight</th>\n",
       "      <th>CrownWidth</th>\n",
       "      <th>CrownWid_1</th>\n",
       "      <th>CollectedB</th>\n",
       "      <th>Notes</th>\n",
       "      <th>...</th>\n",
       "      <th>Genus</th>\n",
       "      <th>Common_nam</th>\n",
       "      <th>Genus_spec</th>\n",
       "      <th>Functional</th>\n",
       "      <th>Size</th>\n",
       "      <th>Native</th>\n",
       "      <th>Edible</th>\n",
       "      <th>Nuisance</th>\n",
       "      <th>Origin</th>\n",
       "      <th>Species_fa</th>\n",
       "    </tr>\n",
       "    <tr>\n",
       "      <th>fid</th>\n",
       "      <th></th>\n",
       "      <th></th>\n",
       "      <th></th>\n",
       "      <th></th>\n",
       "      <th></th>\n",
       "      <th></th>\n",
       "      <th></th>\n",
       "      <th></th>\n",
       "      <th></th>\n",
       "      <th></th>\n",
       "      <th></th>\n",
       "      <th></th>\n",
       "      <th></th>\n",
       "      <th></th>\n",
       "      <th></th>\n",
       "      <th></th>\n",
       "      <th></th>\n",
       "      <th></th>\n",
       "      <th></th>\n",
       "      <th></th>\n",
       "      <th></th>\n",
       "    </tr>\n",
       "  </thead>\n",
       "  <tbody>\n",
       "    <tr>\n",
       "      <th>1</th>\n",
       "      <td>426</td>\n",
       "      <td>2017/05/09</td>\n",
       "      <td>PSME</td>\n",
       "      <td>37.4</td>\n",
       "      <td>Fair</td>\n",
       "      <td>105.0</td>\n",
       "      <td>44.0</td>\n",
       "      <td>57.0</td>\n",
       "      <td>staff</td>\n",
       "      <td>NaN</td>\n",
       "      <td>...</td>\n",
       "      <td>Pseudotsuga</td>\n",
       "      <td>Douglas-fir</td>\n",
       "      <td>Pseudotsuga menziesii</td>\n",
       "      <td>CE</td>\n",
       "      <td>L</td>\n",
       "      <td>Yes</td>\n",
       "      <td>NaN</td>\n",
       "      <td>NaN</td>\n",
       "      <td>North America - from British Columbia south to...</td>\n",
       "      <td>Bracts on cones look like a mouse's feet and t...</td>\n",
       "    </tr>\n",
       "  </tbody>\n",
       "</table>\n",
       "<p>1 rows × 39 columns</p>\n",
       "</div>"
      ],
      "text/plain": [
       "     OBJECTID  Inventory_ Species   DBH Condition  TreeHeight  CrownWidth  \\\n",
       "fid                                                                         \n",
       "1         426  2017/05/09    PSME  37.4      Fair       105.0        44.0   \n",
       "\n",
       "     CrownWid_1 CollectedB Notes  ...        Genus   Common_nam  \\\n",
       "fid                               ...                             \n",
       "1          57.0      staff   NaN  ...  Pseudotsuga  Douglas-fir   \n",
       "\n",
       "                Genus_spec Functional Size Native Edible  Nuisance  \\\n",
       "fid                                                                  \n",
       "1    Pseudotsuga menziesii         CE    L    Yes    NaN       NaN   \n",
       "\n",
       "                                                Origin  \\\n",
       "fid                                                      \n",
       "1    North America - from British Columbia south to...   \n",
       "\n",
       "                                            Species_fa  \n",
       "fid                                                     \n",
       "1    Bracts on cones look like a mouse's feet and t...  \n",
       "\n",
       "[1 rows x 39 columns]"
      ]
     },
     "execution_count": 23,
     "metadata": {},
     "output_type": "execute_result"
    }
   ],
   "source": [
    "trees = pd.read_csv('portland_park_trees.csv', index_col=0, sep=\",\", header=0) #reading in csv file\n",
    "trees.head(1) #checking it is imported correctly, getting head"
   ]
  },
  {
   "cell_type": "markdown",
   "id": "261801f7-e45b-4398-914d-916f497e6f6e",
   "metadata": {},
   "source": [
    "#### **GRAPH 1:** Create a scatterplot for just trees in the Ulmus genus with DBH mapped to the x-axis and tree height mapped to the y-axis"
   ]
  },
  {
   "cell_type": "code",
   "execution_count": 24,
   "id": "be6e7877-c166-40d8-b298-de80e776d7a7",
   "metadata": {},
   "outputs": [
    {
     "data": {
      "text/html": [
       "<div>\n",
       "<style scoped>\n",
       "    .dataframe tbody tr th:only-of-type {\n",
       "        vertical-align: middle;\n",
       "    }\n",
       "\n",
       "    .dataframe tbody tr th {\n",
       "        vertical-align: top;\n",
       "    }\n",
       "\n",
       "    .dataframe thead th {\n",
       "        text-align: right;\n",
       "    }\n",
       "</style>\n",
       "<table border=\"1\" class=\"dataframe\">\n",
       "  <thead>\n",
       "    <tr style=\"text-align: right;\">\n",
       "      <th></th>\n",
       "      <th>OBJECTID</th>\n",
       "      <th>Inventory_</th>\n",
       "      <th>Species</th>\n",
       "      <th>DBH</th>\n",
       "      <th>Condition</th>\n",
       "      <th>TreeHeight</th>\n",
       "      <th>CrownWidth</th>\n",
       "      <th>CrownWid_1</th>\n",
       "      <th>CollectedB</th>\n",
       "      <th>Notes</th>\n",
       "      <th>...</th>\n",
       "      <th>Genus</th>\n",
       "      <th>Common_nam</th>\n",
       "      <th>Genus_spec</th>\n",
       "      <th>Functional</th>\n",
       "      <th>Size</th>\n",
       "      <th>Native</th>\n",
       "      <th>Edible</th>\n",
       "      <th>Nuisance</th>\n",
       "      <th>Origin</th>\n",
       "      <th>Species_fa</th>\n",
       "    </tr>\n",
       "    <tr>\n",
       "      <th>fid</th>\n",
       "      <th></th>\n",
       "      <th></th>\n",
       "      <th></th>\n",
       "      <th></th>\n",
       "      <th></th>\n",
       "      <th></th>\n",
       "      <th></th>\n",
       "      <th></th>\n",
       "      <th></th>\n",
       "      <th></th>\n",
       "      <th></th>\n",
       "      <th></th>\n",
       "      <th></th>\n",
       "      <th></th>\n",
       "      <th></th>\n",
       "      <th></th>\n",
       "      <th></th>\n",
       "      <th></th>\n",
       "      <th></th>\n",
       "      <th></th>\n",
       "      <th></th>\n",
       "    </tr>\n",
       "  </thead>\n",
       "  <tbody>\n",
       "    <tr>\n",
       "      <th>58</th>\n",
       "      <td>483</td>\n",
       "      <td>2017/05/19</td>\n",
       "      <td>ULPU</td>\n",
       "      <td>40.5</td>\n",
       "      <td>Poor</td>\n",
       "      <td>75.0</td>\n",
       "      <td>65.0</td>\n",
       "      <td>55.0</td>\n",
       "      <td>staff</td>\n",
       "      <td>NaN</td>\n",
       "      <td>...</td>\n",
       "      <td>Ulmus</td>\n",
       "      <td>Siberian elm</td>\n",
       "      <td>Ulmus pumila</td>\n",
       "      <td>BD</td>\n",
       "      <td>L</td>\n",
       "      <td>No</td>\n",
       "      <td>NaN</td>\n",
       "      <td>Yes</td>\n",
       "      <td>Asia - eastern Siberia, Korea, northern China,...</td>\n",
       "      <td>Resistant to Dutch elm disease, and cross bred...</td>\n",
       "    </tr>\n",
       "  </tbody>\n",
       "</table>\n",
       "<p>1 rows × 39 columns</p>\n",
       "</div>"
      ],
      "text/plain": [
       "     OBJECTID  Inventory_ Species   DBH Condition  TreeHeight  CrownWidth  \\\n",
       "fid                                                                         \n",
       "58        483  2017/05/19    ULPU  40.5      Poor        75.0        65.0   \n",
       "\n",
       "     CrownWid_1 CollectedB Notes  ...  Genus    Common_nam    Genus_spec  \\\n",
       "fid                               ...                                      \n",
       "58         55.0      staff   NaN  ...  Ulmus  Siberian elm  Ulmus pumila   \n",
       "\n",
       "    Functional Size Native Edible  Nuisance  \\\n",
       "fid                                           \n",
       "58          BD    L     No    NaN       Yes   \n",
       "\n",
       "                                                Origin  \\\n",
       "fid                                                      \n",
       "58   Asia - eastern Siberia, Korea, northern China,...   \n",
       "\n",
       "                                            Species_fa  \n",
       "fid                                                     \n",
       "58   Resistant to Dutch elm disease, and cross bred...  \n",
       "\n",
       "[1 rows x 39 columns]"
      ]
     },
     "execution_count": 24,
     "metadata": {},
     "output_type": "execute_result"
    }
   ],
   "source": [
    "ulmus = trees[trees[\"Genus\"]==\"Ulmus\"] #subsetting Ulmus . . .\n",
    "ulmus\n",
    "ulmus.head(1) #checking if subset worked . . ."
   ]
  },
  {
   "cell_type": "code",
   "execution_count": 31,
   "id": "76c0146f-aef4-4404-9faa-621665e6e4a3",
   "metadata": {},
   "outputs": [
    {
     "name": "stdout",
     "output_type": "stream",
     "text": [
      "     OBJECTID  Inventory_ Species   DBH Condition  TreeHeight  CrownWidth  \\\n",
      "fid                                                                         \n",
      "58        483  2017/05/19    ULPU  40.5      Poor        75.0        65.0   \n",
      "\n",
      "     CrownWid_1 CollectedB Notes  ...  Genus    Common_nam    Genus_spec  \\\n",
      "fid                               ...                                      \n",
      "58         55.0      staff   NaN  ...  Ulmus  Siberian elm  Ulmus pumila   \n",
      "\n",
      "    Functional Size Native Edible  Nuisance  \\\n",
      "fid                                           \n",
      "58          BD    L     No    NaN       Yes   \n",
      "\n",
      "                                                Origin  \\\n",
      "fid                                                      \n",
      "58   Asia - eastern Siberia, Korea, northern China,...   \n",
      "\n",
      "                                            Species_fa  \n",
      "fid                                                     \n",
      "58   Resistant to Dutch elm disease, and cross bred...  \n",
      "\n",
      "[1 rows x 39 columns]\n"
     ]
    },
    {
     "data": {
      "image/png": "[encoded data removed]",
      "text/plain": [
       "<Figure size 640x480 with 1 Axes>"
      ]
     },
     "metadata": {},
     "output_type": "display_data"
    }
   ],
   "source": [
    "ulmus = trees[trees[\"Genus\"]==\"Ulmus\"]\n",
    "ulmus\n",
    "print(ulmus.head(1))\n",
    "Ulmus = (trees['Genus'] == 'Ulmus')\n",
    "ulmusplot = plt.scatter(ulmus.DBH, ulmus.TreeHeight)\n",
    "plt.title(\"Ulmus spp. tree height versus diameter at breast height in inches (DBH)\")\n",
    "plt.xlabel(\"Diameter at breast height in inches (DBH)\")\n",
    "plt.ylabel(\"Tree height (in feet)\")\n",
    "plt.show(ulmusplot)"
   ]
  },
  {
   "cell_type": "markdown",
   "id": "562688d2-85e4-43b5-bb46-fcb00dd65afc",
   "metadata": {},
   "source": [
    "#### **GRAPH 2:** Create a scatterplot for just trees in the Ulmus genus with DBH mapped to the x-axis, tree height mapped to the y-axis, and tree species mapped to hue"
   ]
  },
  {
   "cell_type": "code",
   "execution_count": 35,
   "id": "522894aa-38bb-4d16-a4e8-59527bd4361e",
   "metadata": {},
   "outputs": [
    {
     "data": {
      "image/png": "[encoded data removed]",
      "text/plain": [
       "<Figure size 640x480 with 1 Axes>"
      ]
     },
     "metadata": {},
     "output_type": "display_data"
    }
   ],
   "source": [
    "fig, axs = plt.subplots(1, 1)\n",
    "sns.scatterplot(ax=axs, x=\"DBH\", y=\"TreeHeight\", hue=\"Genus_spec\", data=ulmus)\n",
    "axs.set_title(\"Ulmus spp. tree height versus diameter at breast height in inches (DBH)\", fontsize=20, color=\"#000000\")\n",
    "plt.xlabel(\"Diameter at breast height in inches (DBH)\")\n",
    "plt.ylabel(\"Tree height (in feet)\")\n",
    "handles, labels = axs.get_legend_handles_labels()\n",
    "axs.legend(handles=handles[1:], labels=labels[1:], title=\"Ulma spp.\", fontsize=6.5, title_fontsize=10)\n",
    "axs.grid(True)\n",
    "fig.patch.set_facecolor('#FFFFFF')\n",
    "plt.show(fig)"
   ]
  },
  {
   "cell_type": "markdown",
   "id": "5bdf1cd4-b7d9-4063-a86a-c3de409b1d38",
   "metadata": {},
   "source": [
    "#### **GRAPH 3:** Create a boxplot of DBH for just the Ulmus genus differentiated by species"
   ]
  },
  {
   "cell_type": "code",
   "execution_count": 37,
   "id": "6709c3ee-e1d1-49b7-a241-71ddd3edecb3",
   "metadata": {},
   "outputs": [
    {
     "ename": "ValueError",
     "evalue": "min() arg is an empty sequence",
     "output_type": "error",
     "traceback": [
      "\u001b[0;31m---------------------------------------------------------------------------\u001b[0m",
      "\u001b[0;31mValueError\u001b[0m                                Traceback (most recent call last)",
      "Cell \u001b[0;32mIn[37], line 5\u001b[0m\n\u001b[1;32m      3\u001b[0m Ulmus \u001b[38;5;241m=\u001b[39m \u001b[38;5;124m'\u001b[39m\u001b[38;5;124mUlmus\u001b[39m\u001b[38;5;124m'\u001b[39m\n\u001b[1;32m      4\u001b[0m ulmusboxplot \u001b[38;5;241m=\u001b[39m ulmusgenus_df[ulmusgenus_df[\u001b[38;5;124m'\u001b[39m\u001b[38;5;124mGenus_spec\u001b[39m\u001b[38;5;124m'\u001b[39m] \u001b[38;5;241m==\u001b[39m Ulmus]\n\u001b[0;32m----> 5\u001b[0m \u001b[43msns\u001b[49m\u001b[38;5;241;43m.\u001b[39;49m\u001b[43mboxplot\u001b[49m\u001b[43m(\u001b[49m\u001b[43mx\u001b[49m\u001b[38;5;241;43m=\u001b[39;49m\u001b[38;5;124;43m'\u001b[39;49m\u001b[38;5;124;43mGenus_spec\u001b[39;49m\u001b[38;5;124;43m'\u001b[39;49m\u001b[43m,\u001b[49m\u001b[43m \u001b[49m\u001b[43my\u001b[49m\u001b[38;5;241;43m=\u001b[39;49m\u001b[38;5;124;43m'\u001b[39;49m\u001b[38;5;124;43mDBH\u001b[39;49m\u001b[38;5;124;43m'\u001b[39;49m\u001b[43m,\u001b[49m\u001b[43m \u001b[49m\u001b[43mdata\u001b[49m\u001b[38;5;241;43m=\u001b[39;49m\u001b[43mulmusboxplot\u001b[49m\u001b[43m)\u001b[49m\n",
      "File \u001b[0;32m~/miniconda3/envs/py4sa/lib/python3.10/site-packages/seaborn/categorical.py:2231\u001b[0m, in \u001b[0;36mboxplot\u001b[0;34m(data, x, y, hue, order, hue_order, orient, color, palette, saturation, width, dodge, fliersize, linewidth, whis, ax, **kwargs)\u001b[0m\n\u001b[1;32m   2224\u001b[0m \u001b[38;5;28;01mdef\u001b[39;00m \u001b[38;5;21mboxplot\u001b[39m(\n\u001b[1;32m   2225\u001b[0m     data\u001b[38;5;241m=\u001b[39m\u001b[38;5;28;01mNone\u001b[39;00m, \u001b[38;5;241m*\u001b[39m, x\u001b[38;5;241m=\u001b[39m\u001b[38;5;28;01mNone\u001b[39;00m, y\u001b[38;5;241m=\u001b[39m\u001b[38;5;28;01mNone\u001b[39;00m, hue\u001b[38;5;241m=\u001b[39m\u001b[38;5;28;01mNone\u001b[39;00m, order\u001b[38;5;241m=\u001b[39m\u001b[38;5;28;01mNone\u001b[39;00m, hue_order\u001b[38;5;241m=\u001b[39m\u001b[38;5;28;01mNone\u001b[39;00m,\n\u001b[1;32m   2226\u001b[0m     orient\u001b[38;5;241m=\u001b[39m\u001b[38;5;28;01mNone\u001b[39;00m, color\u001b[38;5;241m=\u001b[39m\u001b[38;5;28;01mNone\u001b[39;00m, palette\u001b[38;5;241m=\u001b[39m\u001b[38;5;28;01mNone\u001b[39;00m, saturation\u001b[38;5;241m=\u001b[39m\u001b[38;5;241m.75\u001b[39m, width\u001b[38;5;241m=\u001b[39m\u001b[38;5;241m.8\u001b[39m,\n\u001b[1;32m   2227\u001b[0m     dodge\u001b[38;5;241m=\u001b[39m\u001b[38;5;28;01mTrue\u001b[39;00m, fliersize\u001b[38;5;241m=\u001b[39m\u001b[38;5;241m5\u001b[39m, linewidth\u001b[38;5;241m=\u001b[39m\u001b[38;5;28;01mNone\u001b[39;00m, whis\u001b[38;5;241m=\u001b[39m\u001b[38;5;241m1.5\u001b[39m, ax\u001b[38;5;241m=\u001b[39m\u001b[38;5;28;01mNone\u001b[39;00m,\n\u001b[1;32m   2228\u001b[0m     \u001b[38;5;241m*\u001b[39m\u001b[38;5;241m*\u001b[39mkwargs\n\u001b[1;32m   2229\u001b[0m ):\n\u001b[0;32m-> 2231\u001b[0m     plotter \u001b[38;5;241m=\u001b[39m \u001b[43m_BoxPlotter\u001b[49m\u001b[43m(\u001b[49m\u001b[43mx\u001b[49m\u001b[43m,\u001b[49m\u001b[43m \u001b[49m\u001b[43my\u001b[49m\u001b[43m,\u001b[49m\u001b[43m \u001b[49m\u001b[43mhue\u001b[49m\u001b[43m,\u001b[49m\u001b[43m \u001b[49m\u001b[43mdata\u001b[49m\u001b[43m,\u001b[49m\u001b[43m \u001b[49m\u001b[43morder\u001b[49m\u001b[43m,\u001b[49m\u001b[43m \u001b[49m\u001b[43mhue_order\u001b[49m\u001b[43m,\u001b[49m\n\u001b[1;32m   2232\u001b[0m \u001b[43m                          \u001b[49m\u001b[43morient\u001b[49m\u001b[43m,\u001b[49m\u001b[43m \u001b[49m\u001b[43mcolor\u001b[49m\u001b[43m,\u001b[49m\u001b[43m \u001b[49m\u001b[43mpalette\u001b[49m\u001b[43m,\u001b[49m\u001b[43m \u001b[49m\u001b[43msaturation\u001b[49m\u001b[43m,\u001b[49m\n\u001b[1;32m   2233\u001b[0m \u001b[43m                          \u001b[49m\u001b[43mwidth\u001b[49m\u001b[43m,\u001b[49m\u001b[43m \u001b[49m\u001b[43mdodge\u001b[49m\u001b[43m,\u001b[49m\u001b[43m \u001b[49m\u001b[43mfliersize\u001b[49m\u001b[43m,\u001b[49m\u001b[43m \u001b[49m\u001b[43mlinewidth\u001b[49m\u001b[43m)\u001b[49m\n\u001b[1;32m   2235\u001b[0m     \u001b[38;5;28;01mif\u001b[39;00m ax \u001b[38;5;129;01mis\u001b[39;00m \u001b[38;5;28;01mNone\u001b[39;00m:\n\u001b[1;32m   2236\u001b[0m         ax \u001b[38;5;241m=\u001b[39m plt\u001b[38;5;241m.\u001b[39mgca()\n",
      "File \u001b[0;32m~/miniconda3/envs/py4sa/lib/python3.10/site-packages/seaborn/categorical.py:786\u001b[0m, in \u001b[0;36m_BoxPlotter.__init__\u001b[0;34m(self, x, y, hue, data, order, hue_order, orient, color, palette, saturation, width, dodge, fliersize, linewidth)\u001b[0m\n\u001b[1;32m    781\u001b[0m \u001b[38;5;28;01mdef\u001b[39;00m \u001b[38;5;21m__init__\u001b[39m(\u001b[38;5;28mself\u001b[39m, x, y, hue, data, order, hue_order,\n\u001b[1;32m    782\u001b[0m              orient, color, palette, saturation,\n\u001b[1;32m    783\u001b[0m              width, dodge, fliersize, linewidth):\n\u001b[1;32m    785\u001b[0m     \u001b[38;5;28mself\u001b[39m\u001b[38;5;241m.\u001b[39mestablish_variables(x, y, hue, data, orient, order, hue_order)\n\u001b[0;32m--> 786\u001b[0m     \u001b[38;5;28;43mself\u001b[39;49m\u001b[38;5;241;43m.\u001b[39;49m\u001b[43mestablish_colors\u001b[49m\u001b[43m(\u001b[49m\u001b[43mcolor\u001b[49m\u001b[43m,\u001b[49m\u001b[43m \u001b[49m\u001b[43mpalette\u001b[49m\u001b[43m,\u001b[49m\u001b[43m \u001b[49m\u001b[43msaturation\u001b[49m\u001b[43m)\u001b[49m\n\u001b[1;32m    788\u001b[0m     \u001b[38;5;28mself\u001b[39m\u001b[38;5;241m.\u001b[39mdodge \u001b[38;5;241m=\u001b[39m dodge\n\u001b[1;32m    789\u001b[0m     \u001b[38;5;28mself\u001b[39m\u001b[38;5;241m.\u001b[39mwidth \u001b[38;5;241m=\u001b[39m width\n",
      "File \u001b[0;32m~/miniconda3/envs/py4sa/lib/python3.10/site-packages/seaborn/categorical.py:707\u001b[0m, in \u001b[0;36m_CategoricalPlotter.establish_colors\u001b[0;34m(self, color, palette, saturation)\u001b[0m\n\u001b[1;32m    705\u001b[0m \u001b[38;5;66;03m# Determine the gray color to use for the lines framing the plot\u001b[39;00m\n\u001b[1;32m    706\u001b[0m light_vals \u001b[38;5;241m=\u001b[39m [rgb_to_hls(\u001b[38;5;241m*\u001b[39mc)[\u001b[38;5;241m1\u001b[39m] \u001b[38;5;28;01mfor\u001b[39;00m c \u001b[38;5;129;01min\u001b[39;00m rgb_colors]\n\u001b[0;32m--> 707\u001b[0m lum \u001b[38;5;241m=\u001b[39m \u001b[38;5;28;43mmin\u001b[39;49m\u001b[43m(\u001b[49m\u001b[43mlight_vals\u001b[49m\u001b[43m)\u001b[49m \u001b[38;5;241m*\u001b[39m \u001b[38;5;241m.6\u001b[39m\n\u001b[1;32m    708\u001b[0m gray \u001b[38;5;241m=\u001b[39m mpl\u001b[38;5;241m.\u001b[39mcolors\u001b[38;5;241m.\u001b[39mrgb2hex((lum, lum, lum))\n\u001b[1;32m    710\u001b[0m \u001b[38;5;66;03m# Assign object attributes\u001b[39;00m\n",
      "\u001b[0;31mValueError\u001b[0m: min() arg is an empty sequence"
     ]
    }
   ],
   "source": [
    "ulmusgenus_df = pd.DataFrame(trees)\n",
    "ulmusgenus_df['ulmusgenus'] = ulmusgenus_df['Genus_spec'].str.split(' ', expand=True)[0]\n",
    "Ulmus = 'Ulmus'\n",
    "ulmusboxplot = ulmusgenus_df[ulmusgenus_df['Genus_spec'] == Ulmus]\n",
    "sns.boxplot(x='Genus_spec', y='DBH', data=ulmusboxplot)"
   ]
  },
  {
   "cell_type": "markdown",
   "id": "fdd2185f-079d-44c9-9b8b-fc0907cdd7af",
   "metadata": {},
   "source": [
    "#### **GRAPH 4:** Combine Graphs 1 and 3 into a single figure."
   ]
  },
  {
   "cell_type": "markdown",
   "id": "1881358b-3591-43f4-bfa2-50e55dbb299e",
   "metadata": {},
   "source": [
    "### Python GeoPandas"
   ]
  },
  {
   "cell_type": "code",
   "execution_count": 40,
   "id": "e1f3b4b8-7211-40df-859b-0c1cd7b6f987",
   "metadata": {},
   "outputs": [
    {
     "name": "stderr",
     "output_type": "stream",
     "text": [
      "/var/folders/jt/dlkzlbf92fl8lbck5rjvdn8w0000gn/T/ipykernel_66404/2684456056.py:5: UserWarning: Shapely 2.0 is installed, but because PyGEOS is also installed, GeoPandas will still use PyGEOS by default for now. To force to use and test Shapely 2.0, you have to set the environment variable USE_PYGEOS=0. You can do this before starting the Python process, or in your code before importing geopandas:\n",
      "\n",
      "import os\n",
      "os.environ['USE_PYGEOS'] = '0'\n",
      "import geopandas\n",
      "\n",
      "In a future release, GeoPandas will switch to using Shapely by default. If you are using PyGEOS directly (calling PyGEOS functions on geometries from GeoPandas), this will then stop working and you are encouraged to migrate from PyGEOS to Shapely 2.0 (https://shapely.readthedocs.io/en/latest/migration_pygeos.html).\n",
      "  import geopandas as gpd\n"
     ]
    }
   ],
   "source": [
    "import numpy as np\n",
    "import pandas as pd\n",
    "import matplotlib.pyplot as plt\n",
    "%matplotlib inline\n",
    "import geopandas as gpd\n",
    "import contextily as ctx\n",
    "import rasterio as rio\n",
    "from rasterio import plot\n",
    "\n",
    "plt.rcParams['figure.figsize'] = [10, 8]"
   ]
  },
  {
   "cell_type": "markdown",
   "id": "71eadfa5-6360-4f18-8f16-52035a35361b",
   "metadata": {},
   "source": [
    "#### **TASK 1:** Read the selected dataset as GeoPandas DataFrame"
   ]
  },
  {
   "cell_type": "code",
   "execution_count": 52,
   "id": "1710dd80-9c96-4502-9ee0-ab28e50ffb7d",
   "metadata": {},
   "outputs": [
    {
     "data": {
      "text/html": [
       "<div>\n",
       "<style scoped>\n",
       "    .dataframe tbody tr th:only-of-type {\n",
       "        vertical-align: middle;\n",
       "    }\n",
       "\n",
       "    .dataframe tbody tr th {\n",
       "        vertical-align: top;\n",
       "    }\n",
       "\n",
       "    .dataframe thead th {\n",
       "        text-align: right;\n",
       "    }\n",
       "</style>\n",
       "<table border=\"1\" class=\"dataframe\">\n",
       "  <thead>\n",
       "    <tr style=\"text-align: right;\">\n",
       "      <th></th>\n",
       "      <th>ID</th>\n",
       "      <th>GRIDCODE</th>\n",
       "      <th>geometry</th>\n",
       "    </tr>\n",
       "  </thead>\n",
       "  <tbody>\n",
       "    <tr>\n",
       "      <th>0</th>\n",
       "      <td>120</td>\n",
       "      <td>1</td>\n",
       "      <td>POLYGON ((142630.000 957400.000, 142620.000 95...</td>\n",
       "    </tr>\n",
       "    <tr>\n",
       "      <th>1</th>\n",
       "      <td>121</td>\n",
       "      <td>1</td>\n",
       "      <td>POLYGON ((148490.000 957400.000, 148480.000 95...</td>\n",
       "    </tr>\n",
       "    <tr>\n",
       "      <th>2</th>\n",
       "      <td>122</td>\n",
       "      <td>1</td>\n",
       "      <td>POLYGON ((142630.000 957400.000, 142640.000 95...</td>\n",
       "    </tr>\n",
       "    <tr>\n",
       "      <th>3</th>\n",
       "      <td>123</td>\n",
       "      <td>1</td>\n",
       "      <td>POLYGON ((148590.000 957390.000, 148580.000 95...</td>\n",
       "    </tr>\n",
       "    <tr>\n",
       "      <th>4</th>\n",
       "      <td>124</td>\n",
       "      <td>1</td>\n",
       "      <td>POLYGON ((142550.000 957370.000, 142540.000 95...</td>\n",
       "    </tr>\n",
       "  </tbody>\n",
       "</table>\n",
       "</div>"
      ],
      "text/plain": [
       "    ID  GRIDCODE                                           geometry\n",
       "0  120         1  POLYGON ((142630.000 957400.000, 142620.000 95...\n",
       "1  121         1  POLYGON ((148490.000 957400.000, 148480.000 95...\n",
       "2  122         1  POLYGON ((142630.000 957400.000, 142640.000 95...\n",
       "3  123         1  POLYGON ((148590.000 957390.000, 148580.000 95...\n",
       "4  124         1  POLYGON ((142550.000 957370.000, 142540.000 95..."
      ]
     },
     "execution_count": 52,
     "metadata": {},
     "output_type": "execute_result"
    }
   ],
   "source": [
    "stat = gpd.read_file('BAREPEATRS_SCOTLAND.shp')\n",
    "stat.head()"
   ]
  },
  {
   "cell_type": "code",
   "execution_count": 50,
   "id": "b8f1eff6-a8b9-4ac3-b6d0-ca0ab6410d4c",
   "metadata": {},
   "outputs": [
    {
     "data": {
      "text/html": [
       "<div>\n",
       "<style scoped>\n",
       "    .dataframe tbody tr th:only-of-type {\n",
       "        vertical-align: middle;\n",
       "    }\n",
       "\n",
       "    .dataframe tbody tr th {\n",
       "        vertical-align: top;\n",
       "    }\n",
       "\n",
       "    .dataframe thead th {\n",
       "        text-align: right;\n",
       "    }\n",
       "</style>\n",
       "<table border=\"1\" class=\"dataframe\">\n",
       "  <thead>\n",
       "    <tr style=\"text-align: right;\">\n",
       "      <th></th>\n",
       "      <th>ID</th>\n",
       "      <th>GRIDCODE</th>\n",
       "      <th>geometry</th>\n",
       "    </tr>\n",
       "  </thead>\n",
       "  <tbody>\n",
       "    <tr>\n",
       "      <th>48571</th>\n",
       "      <td>11584</td>\n",
       "      <td>1</td>\n",
       "      <td>POLYGON ((299240.000 775460.000, 299230.000 77...</td>\n",
       "    </tr>\n",
       "    <tr>\n",
       "      <th>48572</th>\n",
       "      <td>11585</td>\n",
       "      <td>1</td>\n",
       "      <td>POLYGON ((341170.000 775490.000, 341170.000 77...</td>\n",
       "    </tr>\n",
       "    <tr>\n",
       "      <th>48573</th>\n",
       "      <td>11586</td>\n",
       "      <td>1</td>\n",
       "      <td>POLYGON ((341220.000 775460.000, 341200.000 77...</td>\n",
       "    </tr>\n",
       "    <tr>\n",
       "      <th>48574</th>\n",
       "      <td>11587</td>\n",
       "      <td>1</td>\n",
       "      <td>POLYGON ((344810.000 775460.000, 344800.000 77...</td>\n",
       "    </tr>\n",
       "    <tr>\n",
       "      <th>48575</th>\n",
       "      <td>11589</td>\n",
       "      <td>1</td>\n",
       "      <td>POLYGON ((299200.000 775450.000, 299200.000 77...</td>\n",
       "    </tr>\n",
       "  </tbody>\n",
       "</table>\n",
       "</div>"
      ],
      "text/plain": [
       "          ID  GRIDCODE                                           geometry\n",
       "48571  11584         1  POLYGON ((299240.000 775460.000, 299230.000 77...\n",
       "48572  11585         1  POLYGON ((341170.000 775490.000, 341170.000 77...\n",
       "48573  11586         1  POLYGON ((341220.000 775460.000, 341200.000 77...\n",
       "48574  11587         1  POLYGON ((344810.000 775460.000, 344800.000 77...\n",
       "48575  11589         1  POLYGON ((299200.000 775450.000, 299200.000 77..."
      ]
     },
     "execution_count": 50,
     "metadata": {},
     "output_type": "execute_result"
    }
   ],
   "source": [
    "stat.tail()"
   ]
  },
  {
   "cell_type": "markdown",
   "id": "33e127b5-0500-465c-8224-8b5aaf83e8fe",
   "metadata": {},
   "source": [
    "#### **TASK 2:** Use the correct code to plot the first 5 and the last 5 sets of records in your selected dataset."
   ]
  },
  {
   "cell_type": "markdown",
   "id": "d7f6cd87-e1ec-4c9d-ae5b-68551f6c31c7",
   "metadata": {},
   "source": [
    "#### **TASK 3:** Create a map where you can explore the selected dataset. Try to plot the map using some categorical attribute. Include a ToolTip."
   ]
  },
  {
   "cell_type": "code",
   "execution_count": null,
   "id": "ccf3c480-ab78-4ab1-84cd-1451294cda50",
   "metadata": {},
   "outputs": [],
   "source": [
    "#### **TASK 4:**"
   ]
  },
  {
   "cell_type": "code",
   "execution_count": null,
   "id": "044fbd0b-74fd-4fe2-8c66-3f49e07413f8",
   "metadata": {},
   "outputs": [],
   "source": [
    "#### **TASK 5:**"
   ]
  },
  {
   "cell_type": "code",
   "execution_count": null,
   "id": "5dc2db79-769a-4e3d-b06f-573fe5ee6093",
   "metadata": {},
   "outputs": [],
   "source": [
    "#### **TASK 6:**"
   ]
  },
  {
   "cell_type": "code",
   "execution_count": null,
   "id": "c8c239d8-03a2-46a4-826a-b700f6155bc2",
   "metadata": {},
   "outputs": [],
   "source": [
    "#### **TASK 7:**"
   ]
  },
  {
   "cell_type": "code",
   "execution_count": null,
   "id": "1102d6a7-d035-43b9-b915-d30a658048b1",
   "metadata": {},
   "outputs": [],
   "source": [
    "#### **TASK 8:**"
   ]
  }
 ],
 "metadata": {
  "kernelspec": {
   "display_name": "Python 3 (ipykernel)",
   "language": "python",
   "name": "python3"
  },
  "language_info": {
   "codemirror_mode": {
    "name": "ipython",
    "version": 3
   },
   "file_extension": ".py",
   "mimetype": "text/x-python",
   "name": "python",
   "nbconvert_exporter": "python",
   "pygments_lexer": "ipython3",
   "version": "3.10.9"
  }
 },
 "nbformat": 4,
 "nbformat_minor": 5
}
